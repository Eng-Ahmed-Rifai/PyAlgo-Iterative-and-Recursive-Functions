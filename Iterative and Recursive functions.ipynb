{
 "cells": [
  {
   "cell_type": "code",
   "execution_count": null,
   "metadata": {},
   "outputs": [],
   "source": [
    "# The down code is calculating the factorial of a number iteratively using for loop\n",
    "def getfactorialIterative(num):\n",
    "    result = 1\n",
    "    if num > 1:\n",
    "        for i in range(1, num+1): # 1 *2 *3 *4 *num\n",
    "            result = result * i\n",
    "        return result\n",
    "        \n",
    "print(getfactorialIterative(5))"
   ]
  },
  {
   "cell_type": "code",
   "execution_count": null,
   "metadata": {},
   "outputs": [],
   "source": [
    "def getfactorialrecursively(num):\n",
    "# A recursive function that takes a number and returns the factorial of that number recursively.\n",
    "    if num <= 1:\n",
    "        return 1\n",
    "    else:\n",
    "        return num * getfactorialrecursively(num-1)\n",
    "\n",
    "\n",
    "print(getfactorialIterative(5))\n"
   ]
  },
  {
   "cell_type": "code",
   "execution_count": null,
   "metadata": {},
   "outputs": [],
   "source": [
    "# Exam for Iterative Binary Search Function\n",
    "# It returns index of x in given array arr if present,\n",
    "# else returns -1\n",
    "def binary_search(arr, x):\n",
    "\tlow = 0\n",
    "\thigh = len(arr) - 1\n",
    "\tmid = 0\n",
    "\n",
    "\twhile low <= high:\n",
    "\n",
    "\t\tmid = (high + low) // 2\n",
    "\n",
    "\t\t# If x is greater, ignore left half\n",
    "\t\tif arr[mid] < x:\n",
    "\t\t\tlow = mid + 1\n",
    "\n",
    "\t\t# If x is smaller, ignore right half\n",
    "\t\telif arr[mid] > x:\n",
    "\t\t\thigh = mid - 1\n",
    "\n",
    "\t\t# means x is present at mid\n",
    "\t\telse:\n",
    "\t\t\treturn mid\n",
    "\n",
    "\t# If we reach here, then the element was not present\n",
    "\treturn -1\n",
    "\n",
    "\n",
    "# Test array\n",
    "arr = [2, 3, 4, 10, 40]\n",
    "x = 10\n",
    "\n",
    "# Function call\n",
    "result = binary_search(arr, x)\n",
    "\n",
    "if result != -1:\n",
    "\tprint(\"Element is present at index\", str(result))\n",
    "else:\n",
    "\tprint(\"Element is not present in array\")\n",
    "\n",
    "# Complexity:-\n",
    "\n",
    "# Time Complexity: O(log n)\n",
    "\n",
    "# Auxiliary Space: O(1)\n"
   ]
  }
 ],
 "metadata": {
  "kernelspec": {
   "display_name": "Python 3.9.12 ('base')",
   "language": "python",
   "name": "python3"
  },
  "language_info": {
   "codemirror_mode": {
    "name": "ipython",
    "version": 3
   },
   "file_extension": ".py",
   "mimetype": "text/x-python",
   "name": "python",
   "nbconvert_exporter": "python",
   "pygments_lexer": "ipython3",
   "version": "3.9.12"
  },
  "orig_nbformat": 4,
  "vscode": {
   "interpreter": {
    "hash": "7dee4949ba83bc2c6c14ec1158bf1bef6dff180c6542b51f5f49cc44086a494c"
   }
  }
 },
 "nbformat": 4,
 "nbformat_minor": 2
}
